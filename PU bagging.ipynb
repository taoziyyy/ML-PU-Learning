{
 "cells": [
  {
   "cell_type": "code",
   "execution_count": 1,
   "id": "a8c06e82",
   "metadata": {},
   "outputs": [],
   "source": [
    "import pandas as pd\n",
    "import numpy as np\n",
    "import xgboost as xgb\n",
    "from sklearn.model_selection import train_test_split\n",
    "from sklearn.metrics import recall_score, precision_score, roc_auc_score, accuracy_score, f1_score\n",
    "from sklearn.neural_network import MLPClassifier"
   ]
  },
  {
   "cell_type": "code",
   "execution_count": 2,
   "id": "d231018e",
   "metadata": {},
   "outputs": [],
   "source": [
    "url = \"D:/1研究生学习资料/实验数据/实验数据/重做/重做-去重/Re去重/关键基因/RNA39作为未证实/final_train_RNA_data795.csv\"\n",
    "data = pd.read_csv(url)"
   ]
  },
  {
   "cell_type": "markdown",
   "id": "bcc25217",
   "metadata": {},
   "source": [
    "### Load data set"
   ]
  },
  {
   "cell_type": "code",
   "execution_count": 3,
   "id": "d186670e",
   "metadata": {},
   "outputs": [
    {
     "data": {
      "text/html": [
       "<div>\n",
       "<style scoped>\n",
       "    .dataframe tbody tr th:only-of-type {\n",
       "        vertical-align: middle;\n",
       "    }\n",
       "\n",
       "    .dataframe tbody tr th {\n",
       "        vertical-align: top;\n",
       "    }\n",
       "\n",
       "    .dataframe thead th {\n",
       "        text-align: right;\n",
       "    }\n",
       "</style>\n",
       "<table border=\"1\" class=\"dataframe\">\n",
       "  <thead>\n",
       "    <tr style=\"text-align: right;\">\n",
       "      <th></th>\n",
       "      <th>baseMean</th>\n",
       "      <th>log2FoldChange</th>\n",
       "      <th>lfcSE</th>\n",
       "      <th>stat</th>\n",
       "      <th>pvalue</th>\n",
       "      <th>padj</th>\n",
       "      <th>y</th>\n",
       "    </tr>\n",
       "  </thead>\n",
       "  <tbody>\n",
       "    <tr>\n",
       "      <th>0</th>\n",
       "      <td>1706.619722</td>\n",
       "      <td>-1.758654</td>\n",
       "      <td>0.204940</td>\n",
       "      <td>-8.581328</td>\n",
       "      <td>9.380000e-18</td>\n",
       "      <td>1.270000e-16</td>\n",
       "      <td>1</td>\n",
       "    </tr>\n",
       "    <tr>\n",
       "      <th>1</th>\n",
       "      <td>262.779843</td>\n",
       "      <td>1.104679</td>\n",
       "      <td>0.205058</td>\n",
       "      <td>5.387159</td>\n",
       "      <td>7.160000e-08</td>\n",
       "      <td>3.090000e-07</td>\n",
       "      <td>1</td>\n",
       "    </tr>\n",
       "    <tr>\n",
       "      <th>2</th>\n",
       "      <td>2881.943486</td>\n",
       "      <td>1.212687</td>\n",
       "      <td>0.392819</td>\n",
       "      <td>3.087136</td>\n",
       "      <td>2.020949e-03</td>\n",
       "      <td>4.306827e-03</td>\n",
       "      <td>1</td>\n",
       "    </tr>\n",
       "    <tr>\n",
       "      <th>3</th>\n",
       "      <td>228.182361</td>\n",
       "      <td>3.784003</td>\n",
       "      <td>0.949153</td>\n",
       "      <td>3.986718</td>\n",
       "      <td>6.700000e-05</td>\n",
       "      <td>1.857950e-04</td>\n",
       "      <td>1</td>\n",
       "    </tr>\n",
       "    <tr>\n",
       "      <th>4</th>\n",
       "      <td>6866.074347</td>\n",
       "      <td>2.430582</td>\n",
       "      <td>0.491265</td>\n",
       "      <td>4.947604</td>\n",
       "      <td>7.510000e-07</td>\n",
       "      <td>2.820000e-06</td>\n",
       "      <td>1</td>\n",
       "    </tr>\n",
       "    <tr>\n",
       "      <th>...</th>\n",
       "      <td>...</td>\n",
       "      <td>...</td>\n",
       "      <td>...</td>\n",
       "      <td>...</td>\n",
       "      <td>...</td>\n",
       "      <td>...</td>\n",
       "      <td>...</td>\n",
       "    </tr>\n",
       "    <tr>\n",
       "      <th>790</th>\n",
       "      <td>40.111376</td>\n",
       "      <td>3.860520</td>\n",
       "      <td>0.527058</td>\n",
       "      <td>7.324653</td>\n",
       "      <td>2.400000e-13</td>\n",
       "      <td>2.050000e-12</td>\n",
       "      <td>0</td>\n",
       "    </tr>\n",
       "    <tr>\n",
       "      <th>791</th>\n",
       "      <td>2528.928177</td>\n",
       "      <td>2.284136</td>\n",
       "      <td>0.247865</td>\n",
       "      <td>9.215224</td>\n",
       "      <td>3.110000e-20</td>\n",
       "      <td>5.160000e-19</td>\n",
       "      <td>0</td>\n",
       "    </tr>\n",
       "    <tr>\n",
       "      <th>792</th>\n",
       "      <td>71.091778</td>\n",
       "      <td>1.006783</td>\n",
       "      <td>0.253426</td>\n",
       "      <td>3.972691</td>\n",
       "      <td>7.110000e-05</td>\n",
       "      <td>1.959630e-04</td>\n",
       "      <td>0</td>\n",
       "    </tr>\n",
       "    <tr>\n",
       "      <th>793</th>\n",
       "      <td>300.568538</td>\n",
       "      <td>1.755329</td>\n",
       "      <td>0.335342</td>\n",
       "      <td>5.234437</td>\n",
       "      <td>1.650000e-07</td>\n",
       "      <td>6.800000e-07</td>\n",
       "      <td>0</td>\n",
       "    </tr>\n",
       "    <tr>\n",
       "      <th>794</th>\n",
       "      <td>423.897324</td>\n",
       "      <td>4.035609</td>\n",
       "      <td>0.465272</td>\n",
       "      <td>8.673656</td>\n",
       "      <td>4.180000e-18</td>\n",
       "      <td>5.850000e-17</td>\n",
       "      <td>0</td>\n",
       "    </tr>\n",
       "  </tbody>\n",
       "</table>\n",
       "<p>795 rows × 7 columns</p>\n",
       "</div>"
      ],
      "text/plain": [
       "        baseMean  log2FoldChange     lfcSE      stat        pvalue  \\\n",
       "0    1706.619722       -1.758654  0.204940 -8.581328  9.380000e-18   \n",
       "1     262.779843        1.104679  0.205058  5.387159  7.160000e-08   \n",
       "2    2881.943486        1.212687  0.392819  3.087136  2.020949e-03   \n",
       "3     228.182361        3.784003  0.949153  3.986718  6.700000e-05   \n",
       "4    6866.074347        2.430582  0.491265  4.947604  7.510000e-07   \n",
       "..           ...             ...       ...       ...           ...   \n",
       "790    40.111376        3.860520  0.527058  7.324653  2.400000e-13   \n",
       "791  2528.928177        2.284136  0.247865  9.215224  3.110000e-20   \n",
       "792    71.091778        1.006783  0.253426  3.972691  7.110000e-05   \n",
       "793   300.568538        1.755329  0.335342  5.234437  1.650000e-07   \n",
       "794   423.897324        4.035609  0.465272  8.673656  4.180000e-18   \n",
       "\n",
       "             padj  y  \n",
       "0    1.270000e-16  1  \n",
       "1    3.090000e-07  1  \n",
       "2    4.306827e-03  1  \n",
       "3    1.857950e-04  1  \n",
       "4    2.820000e-06  1  \n",
       "..            ... ..  \n",
       "790  2.050000e-12  0  \n",
       "791  5.160000e-19  0  \n",
       "792  1.959630e-04  0  \n",
       "793  6.800000e-07  0  \n",
       "794  5.850000e-17  0  \n",
       "\n",
       "[795 rows x 7 columns]"
      ]
     },
     "execution_count": 3,
     "metadata": {},
     "output_type": "execute_result"
    }
   ],
   "source": [
    "data"
   ]
  },
  {
   "cell_type": "code",
   "execution_count": 4,
   "id": "8841eb4e",
   "metadata": {
    "scrolled": true
   },
   "outputs": [
    {
     "data": {
      "text/plain": [
       "0    713\n",
       "1     82\n",
       "Name: y, dtype: int64"
      ]
     },
     "execution_count": 4,
     "metadata": {},
     "output_type": "execute_result"
    }
   ],
   "source": [
    "data.iloc[:, -1].value_counts()"
   ]
  },
  {
   "cell_type": "code",
   "execution_count": 5,
   "id": "6cd9c0bc",
   "metadata": {
    "scrolled": true
   },
   "outputs": [
    {
     "name": "stdout",
     "output_type": "stream",
     "text": [
      "Using 82/82 as positives and unlabeling the rest\n",
      "target variable:\n",
      " -1    713\n",
      " 1     82\n",
      "Name: class_test, dtype: int64\n"
     ]
    }
   ],
   "source": [
    "\n",
    "mod_data = data.copy()\n",
    "#get the indices of the positives samples\n",
    "pos_ind = np.where(mod_data.iloc[:,-1].values == 1)[0]\n",
    "#shuffle them\n",
    "np.random.shuffle(pos_ind)\n",
    "# leave just 25% of the positives marked\n",
    "pos_sample_len = int(np.ceil(len(pos_ind)))\n",
    "print(f'Using {pos_sample_len}/{len(pos_ind)} as positives and unlabeling the rest')\n",
    "pos_sample = pos_ind[:pos_sample_len]\n",
    "\n",
    "mod_data['class_test'] = -1\n",
    "mod_data.loc[pos_sample,'class_test'] = 1\n",
    "print('target variable:\\n', mod_data.iloc[:,-1].value_counts())"
   ]
  },
  {
   "cell_type": "code",
   "execution_count": 6,
   "id": "4146e330",
   "metadata": {},
   "outputs": [],
   "source": [
    "y_data = mod_data.iloc[:,-1]\n",
    "df_orig_positive  = mod_data.iloc[y_data.values == 1]#正标签所有行数据\n",
    "df_orig_unlabeled = mod_data.iloc[y_data.values != 1]#未标记标签所有行数据\n",
    "x_data_pos = df_orig_positive.iloc[:,:-2].values#正标签特征\n",
    "x_data_unl = df_orig_unlabeled.iloc[:,:-2].values#未标记标签特征"
   ]
  },
  {
   "cell_type": "code",
   "execution_count": 7,
   "id": "5de93acf",
   "metadata": {},
   "outputs": [],
   "source": [
    "len_pos = x_data_pos.shape[0] # size of positives  82\n",
    "len_unlabeled = x_data_unl.shape[0] #size of unlabeled 713\n",
    "learners_num = 128 #learners\n",
    "bootstrap_sample_size = len_pos # random bootstrap sample size"
   ]
  },
  {
   "cell_type": "code",
   "execution_count": 8,
   "id": "8fe3970b",
   "metadata": {},
   "outputs": [],
   "source": [
    "#create a label set for each learning cycle\n",
    "#为每个学习周期创建一个标签集\n",
    "train_labels = np.zeros(shape=(len_pos + bootstrap_sample_size,)) #164\n",
    "#populate the first part of the set with the positive label, \n",
    "#用正面标签填充第一部分，\n",
    "train_labels[:len_pos] = 1.0\n",
    "#place holder array for the number of times the datapoint is predicted\n",
    "#预测数据点的次数的占位符数组(袋外数据)\n",
    "n_oob = np.zeros(shape=(len_unlabeled,))\n",
    "#holds the results of the prediction of the data point\n",
    "#保存数据点的预测结果\n",
    "f_oob = np.zeros(shape=(len_unlabeled, 2))"
   ]
  },
  {
   "cell_type": "code",
   "execution_count": 49,
   "id": "470061b3",
   "metadata": {
    "scrolled": true
   },
   "outputs": [
    {
     "name": "stdout",
     "output_type": "stream",
     "text": [
      "Requirement already satisfied: lightgbm in d:\\softinstall\\anaconda\\lib\\site-packages (3.3.2)Note: you may need to restart the kernel to use updated packages.\n",
      "Requirement already satisfied: numpy in d:\\softinstall\\anaconda\\lib\\site-packages (from lightgbm) (1.19.5)\n",
      "Requirement already satisfied: scipy in d:\\softinstall\\anaconda\\lib\\site-packages (from lightgbm) (1.6.2)\n",
      "Requirement already satisfied: wheel in d:\\softinstall\\anaconda\\lib\\site-packages (from lightgbm) (0.36.2)\n",
      "Requirement already satisfied: scikit-learn!=0.22.0 in d:\\softinstall\\anaconda\\lib\\site-packages (from lightgbm) (0.24.1)\n",
      "Requirement already satisfied: threadpoolctl>=2.0.0 in d:\\softinstall\\anaconda\\lib\\site-packages (from scikit-learn!=0.22.0->lightgbm) (2.1.0)\n",
      "Requirement already satisfied: joblib>=0.11 in d:\\softinstall\\anaconda\\lib\\site-packages (from scikit-learn!=0.22.0->lightgbm) (1.0.1)\n",
      "\n",
      "learner 0/128 completed\n",
      "learner 10/128 completed\n",
      "learner 20/128 completed\n",
      "learner 30/128 completed\n",
      "learner 40/128 completed\n",
      "learner 50/128 completed\n",
      "learner 60/128 completed\n",
      "learner 70/128 completed\n",
      "learner 80/128 completed\n",
      "learner 90/128 completed\n",
      "learner 100/128 completed\n",
      "learner 110/128 completed\n",
      "learner 120/128 completed\n"
     ]
    }
   ],
   "source": [
    "%pip install lightgbm\n",
    "import lightgbm as lgb\n",
    "from sklearn.tree import DecisionTreeClassifier\n",
    "for i in range(learners_num):\n",
    "    # Bootstrap resample\n",
    "    bootstrap_sample = np.random.choice(np.arange(len_unlabeled), replace=True, size=bootstrap_sample_size)\n",
    "    # Positive set + bootstrapped unlabeled set\n",
    "    data_bootstrap = np.concatenate((x_data_pos,x_data_unl[bootstrap_sample, :]), axis=0)\n",
    "    # Train model\n",
    "    #model = lgb.LGBMClassifier()\n",
    "    model = MLPClassifier(random_state=42, verbose=0,hidden_layer_sizes=9)\n",
    "    model.fit(data_bootstrap, train_labels)\n",
    "    # Index for the out of the bag (oob) samples\n",
    "    idx_oob = sorted(set(range(len_unlabeled)) - set(np.unique(bootstrap_sample)))\n",
    "    # Transductive learning of oob samples\n",
    "    f_oob[idx_oob] += model.predict_proba(x_data_unl[idx_oob])\n",
    "    n_oob[idx_oob] += 1\n",
    "    if(i%10 == 0): print(f'learner {i}/{learners_num} completed')\n",
    "        \n",
    "predicted = f_oob[:, 1]/n_oob"
   ]
  },
  {
   "cell_type": "code",
   "execution_count": 52,
   "id": "7ffa0697",
   "metadata": {
    "scrolled": false
   },
   "outputs": [],
   "source": [
    "df_orig_predicted = df_orig_unlabeled.copy()\n",
    "df_orig_predicted['pred'] = [1 if x > 0.9 else 0 for x in predicted]\n",
    "df_orig_positive.loc[:,'pred'] = 1\n",
    "df_outcome = pd.concat([df_orig_positive,df_orig_predicted])"
   ]
  },
  {
   "cell_type": "code",
   "execution_count": 21,
   "id": "126af36e",
   "metadata": {
    "scrolled": true
   },
   "outputs": [
    {
     "data": {
      "text/html": [
       "<div>\n",
       "<style scoped>\n",
       "    .dataframe tbody tr th:only-of-type {\n",
       "        vertical-align: middle;\n",
       "    }\n",
       "\n",
       "    .dataframe tbody tr th {\n",
       "        vertical-align: top;\n",
       "    }\n",
       "\n",
       "    .dataframe thead th {\n",
       "        text-align: right;\n",
       "    }\n",
       "</style>\n",
       "<table border=\"1\" class=\"dataframe\">\n",
       "  <thead>\n",
       "    <tr style=\"text-align: right;\">\n",
       "      <th></th>\n",
       "      <th>baseMean</th>\n",
       "      <th>log2FoldChange</th>\n",
       "      <th>lfcSE</th>\n",
       "      <th>stat</th>\n",
       "      <th>pvalue</th>\n",
       "      <th>padj</th>\n",
       "      <th>y</th>\n",
       "      <th>class_test</th>\n",
       "      <th>pred</th>\n",
       "    </tr>\n",
       "  </thead>\n",
       "  <tbody>\n",
       "  </tbody>\n",
       "</table>\n",
       "</div>"
      ],
      "text/plain": [
       "Empty DataFrame\n",
       "Columns: [baseMean, log2FoldChange, lfcSE, stat, pvalue, padj, y, class_test, pred]\n",
       "Index: []"
      ]
     },
     "execution_count": 21,
     "metadata": {},
     "output_type": "execute_result"
    }
   ],
   "source": [
    "\n",
    "de_result1=df_outcome[df_outcome.iloc[:,-3].values==1]\n",
    "de_result2=de_result1[de_result1.iloc[:,-2].values==-1]\n",
    "de_result3=de_result2[de_result2.iloc[:,-1].values==1]\n",
    "de_result3"
   ]
  },
  {
   "cell_type": "code",
   "execution_count": 53,
   "id": "cb375cc9",
   "metadata": {},
   "outputs": [],
   "source": [
    "df_outcome.to_csv('D:/1研究生学习资料/实验数据/实验数据/重做/重做-去重/Re去重/关键基因/RNA39作为未证实/PU_bagging_MLP_final_predict_调参3.csv',index=False)"
   ]
  }
 ],
 "metadata": {
  "kernelspec": {
   "display_name": "Python 3",
   "language": "python",
   "name": "python3"
  },
  "language_info": {
   "codemirror_mode": {
    "name": "ipython",
    "version": 3
   },
   "file_extension": ".py",
   "mimetype": "text/x-python",
   "name": "python",
   "nbconvert_exporter": "python",
   "pygments_lexer": "ipython3",
   "version": "3.8.8"
  }
 },
 "nbformat": 4,
 "nbformat_minor": 5
}
